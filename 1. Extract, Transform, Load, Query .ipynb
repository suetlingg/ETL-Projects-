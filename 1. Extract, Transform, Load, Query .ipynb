{
 "cells": [
  {
   "cell_type": "code",
   "execution_count": 1,
   "id": "edbd7c71",
   "metadata": {},
   "outputs": [],
   "source": [
    "# Import Libraries\n",
    "import psycopg2\n",
    "import configparser\n",
    "import pandas as pd\n",
    "\n",
    "%load_ext sql "
   ]
  },
  {
   "cell_type": "markdown",
   "id": "e3ca8a0b",
   "metadata": {},
   "source": [
    "## Extract"
   ]
  },
  {
   "cell_type": "code",
   "execution_count": 2,
   "id": "35e53a88",
   "metadata": {},
   "outputs": [
    {
     "data": {
      "text/html": [
       "<div>\n",
       "<style scoped>\n",
       "    .dataframe tbody tr th:only-of-type {\n",
       "        vertical-align: middle;\n",
       "    }\n",
       "\n",
       "    .dataframe tbody tr th {\n",
       "        vertical-align: top;\n",
       "    }\n",
       "\n",
       "    .dataframe thead th {\n",
       "        text-align: right;\n",
       "    }\n",
       "</style>\n",
       "<table border=\"1\" class=\"dataframe\">\n",
       "  <thead>\n",
       "    <tr style=\"text-align: right;\">\n",
       "      <th></th>\n",
       "      <th>Material Group</th>\n",
       "      <th>Material Group Desc.</th>\n",
       "      <th>Spend Group</th>\n",
       "      <th>Excluded in Analysis</th>\n",
       "      <th>Spend Category</th>\n",
       "      <th>Spend Subcategory</th>\n",
       "    </tr>\n",
       "  </thead>\n",
       "  <tbody>\n",
       "    <tr>\n",
       "      <th>0</th>\n",
       "      <td>01</td>\n",
       "      <td>Material group 1</td>\n",
       "      <td>NaN</td>\n",
       "      <td>Yes</td>\n",
       "      <td>NaN</td>\n",
       "      <td>NaN</td>\n",
       "    </tr>\n",
       "    <tr>\n",
       "      <th>1</th>\n",
       "      <td>02</td>\n",
       "      <td>Material group 2</td>\n",
       "      <td>NaN</td>\n",
       "      <td>Yes</td>\n",
       "      <td>NaN</td>\n",
       "      <td>NaN</td>\n",
       "    </tr>\n",
       "    <tr>\n",
       "      <th>2</th>\n",
       "      <td>AMENITIES</td>\n",
       "      <td>Sundries</td>\n",
       "      <td>Staff Related</td>\n",
       "      <td>No</td>\n",
       "      <td>Sundries</td>\n",
       "      <td>Consumables Sundries</td>\n",
       "    </tr>\n",
       "  </tbody>\n",
       "</table>\n",
       "</div>"
      ],
      "text/plain": [
       "  Material Group Material Group Desc.    Spend Group Excluded in Analysis  \\\n",
       "0             01     Material group 1            NaN                  Yes   \n",
       "1             02     Material group 2            NaN                  Yes   \n",
       "2      AMENITIES             Sundries  Staff Related                   No   \n",
       "\n",
       "  Spend Category     Spend Subcategory  \n",
       "0            NaN                   NaN  \n",
       "1            NaN                   NaN  \n",
       "2       Sundries  Consumables Sundries  "
      ]
     },
     "execution_count": 2,
     "metadata": {},
     "output_type": "execute_result"
    }
   ],
   "source": [
    "# read data \n",
    "data = pd.read_excel('Material_Groups_Mapping_Table (3).xlsx')\n",
    "data.head(3)"
   ]
  },
  {
   "cell_type": "code",
   "execution_count": 3,
   "id": "73ba2763",
   "metadata": {
    "scrolled": true
   },
   "outputs": [
    {
     "data": {
      "text/html": [
       "<div>\n",
       "<style scoped>\n",
       "    .dataframe tbody tr th:only-of-type {\n",
       "        vertical-align: middle;\n",
       "    }\n",
       "\n",
       "    .dataframe tbody tr th {\n",
       "        vertical-align: top;\n",
       "    }\n",
       "\n",
       "    .dataframe thead th {\n",
       "        text-align: right;\n",
       "    }\n",
       "</style>\n",
       "<table border=\"1\" class=\"dataframe\">\n",
       "  <thead>\n",
       "    <tr style=\"text-align: right;\">\n",
       "      <th></th>\n",
       "      <th>Purchasing Document</th>\n",
       "      <th>Item</th>\n",
       "      <th>Purchasing Doc. Type</th>\n",
       "      <th>Supplier/Supplying Plant</th>\n",
       "      <th>Material</th>\n",
       "      <th>Short Text</th>\n",
       "      <th>Material Group</th>\n",
       "      <th>Document Date</th>\n",
       "      <th>Collective Number</th>\n",
       "      <th>Created by</th>\n",
       "      <th>Price in Currency Conv</th>\n",
       "      <th>Currency</th>\n",
       "    </tr>\n",
       "  </thead>\n",
       "  <tbody>\n",
       "    <tr>\n",
       "      <th>0</th>\n",
       "      <td>4300000004</td>\n",
       "      <td>10</td>\n",
       "      <td>ZCO</td>\n",
       "      <td>101707     MEDIA MARKETING</td>\n",
       "      <td>NaN</td>\n",
       "      <td>MAINTENANCE OF PAASENNGER LIFT</td>\n",
       "      <td>OFCBLDG</td>\n",
       "      <td>2020-02-21</td>\n",
       "      <td>NaN</td>\n",
       "      <td>ABDRAHIM</td>\n",
       "      <td>23516.0</td>\n",
       "      <td>MYR</td>\n",
       "    </tr>\n",
       "    <tr>\n",
       "      <th>1</th>\n",
       "      <td>4300000005</td>\n",
       "      <td>10</td>\n",
       "      <td>ZCO</td>\n",
       "      <td>101388     PRO TECHNOLOGY SDN BHD</td>\n",
       "      <td>NaN</td>\n",
       "      <td>RENTAL OF 19 BYD ELEC. FORKLIFT</td>\n",
       "      <td>SER.CON</td>\n",
       "      <td>2020-02-21</td>\n",
       "      <td>NaN</td>\n",
       "      <td>ABDRAHIM</td>\n",
       "      <td>68400.0</td>\n",
       "      <td>MYR</td>\n",
       "    </tr>\n",
       "    <tr>\n",
       "      <th>2</th>\n",
       "      <td>4300000006</td>\n",
       "      <td>10</td>\n",
       "      <td>ZCO</td>\n",
       "      <td>101022     LA ENGINEERING SDN BHD</td>\n",
       "      <td>NaN</td>\n",
       "      <td>RENTAL OF 17 UNIT FORKLIFT</td>\n",
       "      <td>SER.CON</td>\n",
       "      <td>2020-02-21</td>\n",
       "      <td>NaN</td>\n",
       "      <td>ABDRAHIM</td>\n",
       "      <td>176400.0</td>\n",
       "      <td>MYR</td>\n",
       "    </tr>\n",
       "  </tbody>\n",
       "</table>\n",
       "</div>"
      ],
      "text/plain": [
       "   Purchasing Document  Item Purchasing Doc. Type  \\\n",
       "0           4300000004    10                  ZCO   \n",
       "1           4300000005    10                  ZCO   \n",
       "2           4300000006    10                  ZCO   \n",
       "\n",
       "            Supplier/Supplying Plant  Material  \\\n",
       "0         101707     MEDIA MARKETING       NaN   \n",
       "1  101388     PRO TECHNOLOGY SDN BHD       NaN   \n",
       "2  101022     LA ENGINEERING SDN BHD       NaN   \n",
       "\n",
       "                        Short Text Material Group Document Date  \\\n",
       "0   MAINTENANCE OF PAASENNGER LIFT        OFCBLDG    2020-02-21   \n",
       "1  RENTAL OF 19 BYD ELEC. FORKLIFT        SER.CON    2020-02-21   \n",
       "2       RENTAL OF 17 UNIT FORKLIFT        SER.CON    2020-02-21   \n",
       "\n",
       "  Collective Number Created by  Price in Currency Conv Currency  \n",
       "0               NaN   ABDRAHIM                 23516.0      MYR  \n",
       "1               NaN   ABDRAHIM                 68400.0      MYR  \n",
       "2               NaN   ABDRAHIM                176400.0      MYR  "
      ]
     },
     "execution_count": 3,
     "metadata": {},
     "output_type": "execute_result"
    }
   ],
   "source": [
    "# read data\n",
    "raw = pd.read_excel('me2n_purchasing_documents (3).xlsx')\n",
    "data2 = raw.copy()\n",
    "data2.head(3)"
   ]
  },
  {
   "cell_type": "markdown",
   "id": "c9cd79c8",
   "metadata": {},
   "source": [
    "## Transform"
   ]
  },
  {
   "cell_type": "code",
   "execution_count": 4,
   "id": "6bfc4755",
   "metadata": {},
   "outputs": [],
   "source": [
    "def clean_map(df):\n",
    "    # remove Yes - excluded in analysis\n",
    "    # remove nan  \n",
    "    clean_df = df.drop(df[df['Excluded in Analysis'] == 'Yes'].index).dropna()\n",
    "    return clean_df"
   ]
  },
  {
   "cell_type": "code",
   "execution_count": 5,
   "id": "f4c487b1",
   "metadata": {},
   "outputs": [
    {
     "data": {
      "text/plain": [
       "(155, 6)"
      ]
     },
     "execution_count": 5,
     "metadata": {},
     "output_type": "execute_result"
    }
   ],
   "source": [
    "clean_map = clean_map(data)\n",
    "clean_map.shape"
   ]
  },
  {
   "cell_type": "code",
   "execution_count": 6,
   "id": "a30e499e",
   "metadata": {},
   "outputs": [],
   "source": [
    "def clean_transaction(df):\n",
    "    # change purchasing from int to str\n",
    "    # make new month column\n",
    "    # drop collective number column \n",
    "    # drop material \n",
    "    df['Purchasing Document'] = df['Purchasing Document'].astype(str)\n",
    "    df['Month'] = df['Document Date'].dt.strftime('%b')\n",
    "    df.drop(columns=['Collective Number', 'Material'], inplace=True)\n",
    "    return df"
   ]
  },
  {
   "cell_type": "code",
   "execution_count": 7,
   "id": "05fe8750",
   "metadata": {},
   "outputs": [
    {
     "data": {
      "text/html": [
       "<div>\n",
       "<style scoped>\n",
       "    .dataframe tbody tr th:only-of-type {\n",
       "        vertical-align: middle;\n",
       "    }\n",
       "\n",
       "    .dataframe tbody tr th {\n",
       "        vertical-align: top;\n",
       "    }\n",
       "\n",
       "    .dataframe thead th {\n",
       "        text-align: right;\n",
       "    }\n",
       "</style>\n",
       "<table border=\"1\" class=\"dataframe\">\n",
       "  <thead>\n",
       "    <tr style=\"text-align: right;\">\n",
       "      <th></th>\n",
       "      <th>Purchasing Document</th>\n",
       "      <th>Item</th>\n",
       "      <th>Purchasing Doc. Type</th>\n",
       "      <th>Supplier/Supplying Plant</th>\n",
       "      <th>Short Text</th>\n",
       "      <th>Material Group</th>\n",
       "      <th>Document Date</th>\n",
       "      <th>Created by</th>\n",
       "      <th>Price in Currency Conv</th>\n",
       "      <th>Currency</th>\n",
       "      <th>Month</th>\n",
       "    </tr>\n",
       "  </thead>\n",
       "  <tbody>\n",
       "    <tr>\n",
       "      <th>0</th>\n",
       "      <td>4300000004</td>\n",
       "      <td>10</td>\n",
       "      <td>ZCO</td>\n",
       "      <td>101707     MEDIA MARKETING</td>\n",
       "      <td>MAINTENANCE OF PAASENNGER LIFT</td>\n",
       "      <td>OFCBLDG</td>\n",
       "      <td>2020-02-21</td>\n",
       "      <td>ABDRAHIM</td>\n",
       "      <td>23516.0</td>\n",
       "      <td>MYR</td>\n",
       "      <td>Feb</td>\n",
       "    </tr>\n",
       "    <tr>\n",
       "      <th>1</th>\n",
       "      <td>4300000005</td>\n",
       "      <td>10</td>\n",
       "      <td>ZCO</td>\n",
       "      <td>101388     PRO TECHNOLOGY SDN BHD</td>\n",
       "      <td>RENTAL OF 19 BYD ELEC. FORKLIFT</td>\n",
       "      <td>SER.CON</td>\n",
       "      <td>2020-02-21</td>\n",
       "      <td>ABDRAHIM</td>\n",
       "      <td>68400.0</td>\n",
       "      <td>MYR</td>\n",
       "      <td>Feb</td>\n",
       "    </tr>\n",
       "    <tr>\n",
       "      <th>2</th>\n",
       "      <td>4300000006</td>\n",
       "      <td>10</td>\n",
       "      <td>ZCO</td>\n",
       "      <td>101022     LA ENGINEERING SDN BHD</td>\n",
       "      <td>RENTAL OF 17 UNIT FORKLIFT</td>\n",
       "      <td>SER.CON</td>\n",
       "      <td>2020-02-21</td>\n",
       "      <td>ABDRAHIM</td>\n",
       "      <td>176400.0</td>\n",
       "      <td>MYR</td>\n",
       "      <td>Feb</td>\n",
       "    </tr>\n",
       "    <tr>\n",
       "      <th>3</th>\n",
       "      <td>4300000007</td>\n",
       "      <td>10</td>\n",
       "      <td>ZCO</td>\n",
       "      <td>101613     FASHION HOUSE</td>\n",
       "      <td>INDUSTRIAL COARSE SALT</td>\n",
       "      <td>CHEMICAL</td>\n",
       "      <td>2020-06-03</td>\n",
       "      <td>SHANIZA</td>\n",
       "      <td>157500.0</td>\n",
       "      <td>MYR</td>\n",
       "      <td>Jun</td>\n",
       "    </tr>\n",
       "    <tr>\n",
       "      <th>4</th>\n",
       "      <td>4500000254</td>\n",
       "      <td>10</td>\n",
       "      <td>ZNB</td>\n",
       "      <td>103230     NASIONAL BERHAD</td>\n",
       "      <td>MODEL LORI BERSKALA 1/64 KONTENA/ TANKER</td>\n",
       "      <td>MARKETING</td>\n",
       "      <td>2020-01-09</td>\n",
       "      <td>ABDRAHIM</td>\n",
       "      <td>7000.0</td>\n",
       "      <td>MYR</td>\n",
       "      <td>Jan</td>\n",
       "    </tr>\n",
       "  </tbody>\n",
       "</table>\n",
       "</div>"
      ],
      "text/plain": [
       "  Purchasing Document  Item Purchasing Doc. Type  \\\n",
       "0          4300000004    10                  ZCO   \n",
       "1          4300000005    10                  ZCO   \n",
       "2          4300000006    10                  ZCO   \n",
       "3          4300000007    10                  ZCO   \n",
       "4          4500000254    10                  ZNB   \n",
       "\n",
       "            Supplier/Supplying Plant  \\\n",
       "0         101707     MEDIA MARKETING   \n",
       "1  101388     PRO TECHNOLOGY SDN BHD   \n",
       "2  101022     LA ENGINEERING SDN BHD   \n",
       "3           101613     FASHION HOUSE   \n",
       "4         103230     NASIONAL BERHAD   \n",
       "\n",
       "                                 Short Text Material Group Document Date  \\\n",
       "0            MAINTENANCE OF PAASENNGER LIFT        OFCBLDG    2020-02-21   \n",
       "1           RENTAL OF 19 BYD ELEC. FORKLIFT        SER.CON    2020-02-21   \n",
       "2                RENTAL OF 17 UNIT FORKLIFT        SER.CON    2020-02-21   \n",
       "3                    INDUSTRIAL COARSE SALT       CHEMICAL    2020-06-03   \n",
       "4  MODEL LORI BERSKALA 1/64 KONTENA/ TANKER      MARKETING    2020-01-09   \n",
       "\n",
       "  Created by  Price in Currency Conv Currency Month  \n",
       "0   ABDRAHIM                 23516.0      MYR   Feb  \n",
       "1   ABDRAHIM                 68400.0      MYR   Feb  \n",
       "2   ABDRAHIM                176400.0      MYR   Feb  \n",
       "3    SHANIZA                157500.0      MYR   Jun  \n",
       "4   ABDRAHIM                  7000.0      MYR   Jan  "
      ]
     },
     "execution_count": 7,
     "metadata": {},
     "output_type": "execute_result"
    }
   ],
   "source": [
    "clean_trans = clean_transaction(data2)\n",
    "clean_trans.head()"
   ]
  },
  {
   "cell_type": "markdown",
   "id": "df2e9bf2",
   "metadata": {},
   "source": [
    "## Load"
   ]
  },
  {
   "cell_type": "markdown",
   "id": "14804c5c",
   "metadata": {},
   "source": [
    "#### Set up Connection and Database"
   ]
  },
  {
   "cell_type": "code",
   "execution_count": 8,
   "id": "38b62e58",
   "metadata": {},
   "outputs": [],
   "source": [
    "# Read parameters from the config file\n",
    "config = configparser.ConfigParser()\n",
    "config.read('config.cfg')\n",
    "DB_NAME_DEFAULT = config.get('SQL', 'DB_NAME_DEFAULT')\n",
    "DB_USER = config.get('SQL', 'DB_USER')\n",
    "DB_PASSWORD = config.get('SQL', 'DB_PASSWORD')"
   ]
  },
  {
   "cell_type": "code",
   "execution_count": 9,
   "id": "7f4fe35e",
   "metadata": {},
   "outputs": [],
   "source": [
    "# Connect to default database\n",
    "conn = psycopg2.connect(\"host=127.0.0.1 dbname={} user={} password={}\".format(DB_NAME_DEFAULT, DB_USER, DB_PASSWORD))\n",
    "conn.set_session(autocommit=True)\n",
    "cur = conn.cursor()"
   ]
  },
  {
   "cell_type": "code",
   "execution_count": 10,
   "id": "a457d1fe",
   "metadata": {},
   "outputs": [
    {
     "ename": "DuplicateDatabase",
     "evalue": "database \"reports\" already exists\n",
     "output_type": "error",
     "traceback": [
      "\u001b[1;31m---------------------------------------------------------------------------\u001b[0m",
      "\u001b[1;31mDuplicateDatabase\u001b[0m                         Traceback (most recent call last)",
      "Cell \u001b[1;32mIn[10], line 2\u001b[0m\n\u001b[0;32m      1\u001b[0m \u001b[38;5;66;03m# Create Database\u001b[39;00m\n\u001b[1;32m----> 2\u001b[0m cur\u001b[38;5;241m.\u001b[39mexecute(\u001b[38;5;124m\"\u001b[39m\u001b[38;5;124mCREATE DATABASE reports WITH ENCODING \u001b[39m\u001b[38;5;124m'\u001b[39m\u001b[38;5;124mutf8\u001b[39m\u001b[38;5;124m'\u001b[39m\u001b[38;5;124m TEMPLATE template0\u001b[39m\u001b[38;5;124m\"\u001b[39m)\n",
      "\u001b[1;31mDuplicateDatabase\u001b[0m: database \"reports\" already exists\n"
     ]
    }
   ],
   "source": [
    "# Create Database\n",
    "cur.execute(\"CREATE DATABASE reports WITH ENCODING 'utf8' TEMPLATE template0\")"
   ]
  },
  {
   "cell_type": "code",
   "execution_count": 11,
   "id": "8926497b",
   "metadata": {},
   "outputs": [],
   "source": [
    "# Close Connection to default database\n",
    "conn.close()"
   ]
  },
  {
   "cell_type": "code",
   "execution_count": 31,
   "id": "53dc148d",
   "metadata": {},
   "outputs": [],
   "source": [
    "# Connect to reports database\n",
    "conn = psycopg2.connect('host=127.0.0.1 dbname=reports user={} password={}'.format(DB_USER, DB_PASSWORD))\n",
    "cur = conn.cursor()"
   ]
  },
  {
   "cell_type": "markdown",
   "id": "3bca146c",
   "metadata": {},
   "source": [
    "#### Set up table for staging -  storage for raw data"
   ]
  },
  {
   "cell_type": "code",
   "execution_count": 13,
   "id": "8d1d9c5e",
   "metadata": {},
   "outputs": [],
   "source": [
    "cur. execute(\n",
    "\n",
    "'''\n",
    "CREATE TABLE IF NOT EXISTS staging_table (\n",
    "    \"Purchasing Document\" VARCHAR(50), \n",
    "    \"Item\" INTEGER, \n",
    "    \"Purchasing Doc. Type\" VARCHAR(10), \n",
    "    \"Supplier/Supplying Plant\" VARCHAR(50),\n",
    "    \"Material\" FLOAT NULL, \n",
    "    \"Short Text\" VARCHAR(100),\n",
    "    \"Material Group\" VARCHAR(50),\n",
    "    \"Document Date\" DATE,\n",
    "    \"Collective Number\" VARCHAR(30) NULL, \n",
    "    \"Created by\" VARCHAR(50),\n",
    "    \"Price in Currency Conv\" FLOAT,\n",
    "    \"Currency\" VARCHAR(30),\n",
    "    \"Month\" VARCHAR(5)\n",
    ")\n",
    "'''\n",
    "            )\n",
    "conn.commit()"
   ]
  },
  {
   "cell_type": "code",
   "execution_count": 14,
   "id": "cddb618a",
   "metadata": {},
   "outputs": [],
   "source": [
    "## insert csv to staging table\n",
    "for i, row in raw.iterrows():\n",
    "    try: \n",
    "        cur.execute(\n",
    "        '''\n",
    "        INSERT INTO staging_table\n",
    "        (\"Purchasing Document\", \"Item\", \"Purchasing Doc. Type\",\n",
    "        \"Supplier/Supplying Plant\", \"Material\", \"Short Text\",\n",
    "        \"Material Group\", \"Document Date\", \"Collective Number\", \"Created by\",\n",
    "         \"Price in Currency Conv\", \"Currency\")\n",
    "        VALUES (%s, %s, %s, %s, %s, %s, %s, %s, %s, %s, %s, %s)\n",
    "        ''', row.tolist())\n",
    "    \n",
    "        conn.commit()\n",
    "    \n",
    "    except psycopg2.DataError as e:\n",
    "        # Print the problematic row causing the error\n",
    "        print(\"Error inserting row:\", row.tolist())\n",
    "        print(\"Error message:\", e)\n",
    "        # Rollback the transaction to continue with the next row\n",
    "        conn.rollback()"
   ]
  },
  {
   "cell_type": "markdown",
   "id": "e3641bfc",
   "metadata": {},
   "source": [
    "#### Set up mapping table"
   ]
  },
  {
   "cell_type": "code",
   "execution_count": 15,
   "id": "fc109536",
   "metadata": {},
   "outputs": [],
   "source": [
    "cur. execute(\n",
    "\n",
    "'''\n",
    "CREATE TABLE IF NOT EXISTS mapping_table (\n",
    "    \"Material Group\" VARCHAR(50) PRIMARY KEY,\n",
    "    \"Material Group Desc\" VARCHAR(50),\n",
    "    \"Spend Group\" VARCHAR(50),\n",
    "    \"Excluded in Analysis\" VARCHAR(5),\n",
    "    \"Spend Category\" VARCHAR(50),\n",
    "    \"Spend Subcategory\" VARCHAR(50)\n",
    ")\n",
    "'''\n",
    "            )\n",
    "conn.commit()"
   ]
  },
  {
   "cell_type": "code",
   "execution_count": 16,
   "id": "19a22588",
   "metadata": {},
   "outputs": [],
   "source": [
    "## insert csv to mapping_table\n",
    "for i, row in clean_map.iterrows():\n",
    "    try: \n",
    "        cur.execute(\n",
    "        '''\n",
    "        INSERT INTO mapping_table\n",
    "        (\"Material Group\", \"Material Group Desc\", \"Spend Group\", \"Excluded in Analysis\", \"Spend Category\", \"Spend Subcategory\")\n",
    "        VALUES (%s, %s, %s, %s, %s, %s)\n",
    "        ''', row.tolist())\n",
    "    \n",
    "        conn.commit()\n",
    "    \n",
    "    except psycopg2.DataError as e:\n",
    "        # Print the problematic row causing the error\n",
    "        print(\"Error inserting row:\", row.tolist())\n",
    "        print(\"Error message:\", e)\n",
    "        # Rollback the transaction to continue with the next row\n",
    "        conn.rollback()"
   ]
  },
  {
   "cell_type": "markdown",
   "id": "0827f145",
   "metadata": {},
   "source": [
    "#### Set up table for storage of transactional data (clean data) "
   ]
  },
  {
   "cell_type": "code",
   "execution_count": 17,
   "id": "8978ef0e",
   "metadata": {},
   "outputs": [],
   "source": [
    "cur. execute(\n",
    "\n",
    "'''\n",
    "CREATE TABLE IF NOT EXISTS transaction_table (\n",
    "    \"Purchasing Document\" VARCHAR(50), \n",
    "    \"Item\" INTEGER, \n",
    "    \"Purchasing Doc. Type\" VARCHAR(10), \n",
    "    \"Supplier/Supplying Plant\" VARCHAR(50),  \n",
    "    \"Short Text\" VARCHAR(100),\n",
    "    \"Material Group\" VARCHAR(50),\n",
    "    \"Document Date\" DATE, \n",
    "    \"Created by\" VARCHAR(50),\n",
    "    \"Price in Currency Conv\" INTEGER,\n",
    "    \"Currency\" VARCHAR(20),\n",
    "    \"Month\" VARCHAR(5),\n",
    "    FOREIGN KEY (\"Material Group\") REFERENCES mapping_table(\"Material Group\")\n",
    ")\n",
    "'''\n",
    "            )\n",
    "conn.commit()"
   ]
  },
  {
   "cell_type": "code",
   "execution_count": 18,
   "id": "c8b9a003",
   "metadata": {
    "scrolled": false
   },
   "outputs": [],
   "source": [
    "## insert csv to transaction table \n",
    "for i, row in clean_trans.iterrows():\n",
    "    try: \n",
    "        cur.execute(\n",
    "        '''\n",
    "        INSERT INTO transaction_table\n",
    "        (\"Purchasing Document\", \"Item\", \"Purchasing Doc. Type\",\n",
    "        \"Supplier/Supplying Plant\", \"Short Text\", \n",
    "        \"Material Group\", \"Document Date\", \"Created by\", \n",
    "        \"Price in Currency Conv\", \"Currency\", \"Month\")\n",
    "        VALUES (%s, %s, %s, %s, %s, %s, %s, %s, %s, %s, %s)\n",
    "        ''', row.tolist())\n",
    "    \n",
    "        conn.commit()\n",
    "    \n",
    "    except psycopg2.DataError as e:\n",
    "        # Print the problematic row causing the error\n",
    "        print(\"Error inserting row:\", row.tolist())\n",
    "        print(\"Error message:\", e)\n",
    "        # Rollback the transaction to continue with the next row\n",
    "        conn.rollback()"
   ]
  },
  {
   "cell_type": "markdown",
   "id": "2222dd74",
   "metadata": {},
   "source": [
    "### Query - Postgres(SQL) "
   ]
  },
  {
   "cell_type": "code",
   "execution_count": 32,
   "id": "e7296df4",
   "metadata": {},
   "outputs": [],
   "source": [
    "# Connecting to coffeeshops database\n",
    "conn_string = \"postgresql://{}:{}@127.0.0.1/reports\".format(DB_USER, DB_PASSWORD)\n",
    "%sql $conn_string"
   ]
  },
  {
   "cell_type": "markdown",
   "id": "2f509239",
   "metadata": {},
   "source": [
    "#### 1. What is the top 10 highest transaction of supplier/supplying plant and which group?"
   ]
  },
  {
   "cell_type": "code",
   "execution_count": 34,
   "id": "b17b9c7a",
   "metadata": {},
   "outputs": [
    {
     "name": "stdout",
     "output_type": "stream",
     "text": [
      "(3230250, '101022     LA ENGINEERING SDN BHD', 'MACHINERY')\n",
      "(3230250, '101022     LA ENGINEERING SDN BHD', 'MACHINERY')\n",
      "(2478000, '101022     LA ENGINEERING SDN BHD', 'MACHINERY')\n",
      "(2478000, '101022     LA ENGINEERING SDN BHD', 'MACHINERY')\n",
      "(2323000, '100865     PROTECTIVE SDN BHD', 'MACHINERY')\n",
      "(2286463, '100865     PROTECTIVE SDN BHD', 'MACHINERY')\n",
      "(883439, '103094     KIYO SDN BHD', 'IT.SWARE')\n",
      "(864000, '101942    GIFT & PREMIUM SDN BHD', 'IT.SWARE')\n",
      "(698400, '100303     PLASTICS SDN BHD', 'PCK.SBAG')\n",
      "(560000, '103094     KIYO SDN BHD', 'CHEMICAL')\n"
     ]
    }
   ],
   "source": [
    "# Create a cursor object\n",
    "conn = psycopg2.connect('host=127.0.0.1 dbname=reports user={} password={}'.format(DB_USER, DB_PASSWORD))\n",
    "cur = conn.cursor()\n",
    "\n",
    "# Define your SQL query\n",
    "sql_query = \"\"\"\n",
    "SELECT \"Price in Currency Conv\", \"Supplier/Supplying Plant\", \"Material Group\" \n",
    "FROM transaction_table\n",
    "ORDER BY \"Price in Currency Conv\" DESC\n",
    "LIMIT 10;\n",
    "\"\"\"\n",
    "\n",
    "# Execute the SQL query\n",
    "cur.execute(sql_query)\n",
    "\n",
    "# Fetch all rows from the result set\n",
    "rows = cur.fetchall()\n",
    "\n",
    "# Print the results\n",
    "for row in rows:\n",
    "    print(row) \n",
    "\n",
    "# Close the cursor and connection\n",
    "cur.close()\n",
    "conn.close()"
   ]
  },
  {
   "cell_type": "markdown",
   "id": "b0129da1",
   "metadata": {},
   "source": [
    "#### 2. What is the expenditure breakdown by material group?"
   ]
  },
  {
   "cell_type": "code",
   "execution_count": 35,
   "id": "86f6926c",
   "metadata": {},
   "outputs": [
    {
     "name": "stdout",
     "output_type": "stream",
     "text": [
      "('MACHINERY', 25588746)\n",
      "('PCK.SBAG', 6457670)\n",
      "('CHEMICAL', 4646147)\n",
      "('SER.CON', 3454423)\n",
      "('PCK.MBAG', 2361530)\n",
      "('SUNDRIES', 2222361)\n",
      "('IT.SWARE', 2159026)\n",
      "('PCK.LBAG', 1369185)\n",
      "('MARKETING', 1276989)\n",
      "('INST', 788954)\n"
     ]
    }
   ],
   "source": [
    "# Create a cursor object\n",
    "conn = psycopg2.connect('host=127.0.0.1 dbname=reports user={} password={}'.format(DB_USER, DB_PASSWORD))\n",
    "cur = conn.cursor()\n",
    "\n",
    "# Define your SQL query\n",
    "sql_query = \"\"\"\n",
    "SELECT \"Material Group\", SUM(\"Price in Currency Conv\") AS \"total_expenditure\"\n",
    "FROM transaction_table\n",
    "GROUP BY \"Material Group\"\n",
    "ORDER BY \"total_expenditure\" DESC\n",
    "LIMIT 10;\n",
    "\"\"\"\n",
    "\n",
    "# Execute the SQL query\n",
    "cur.execute(sql_query)\n",
    "\n",
    "# Fetch all rows from the result set\n",
    "rows = cur.fetchall()\n",
    "\n",
    "# Print the results\n",
    "for row in rows:\n",
    "    print(row) \n",
    "\n",
    "# Close the cursor and connection\n",
    "cur.close()\n",
    "conn.close()"
   ]
  },
  {
   "cell_type": "markdown",
   "id": "df08aa29",
   "metadata": {},
   "source": [
    "#### 3. What is the total expenditure each month?"
   ]
  },
  {
   "cell_type": "code",
   "execution_count": 38,
   "id": "40981102",
   "metadata": {},
   "outputs": [
    {
     "name": "stdout",
     "output_type": "stream",
     "text": [
      "('Jan', 2837241)\n",
      "('Feb', 17545406)\n",
      "('Mar', 10237264)\n",
      "('Apr', 13440465)\n",
      "('May', 7515179)\n",
      "('Jun', 3554472)\n"
     ]
    }
   ],
   "source": [
    "# Create a cursor object\n",
    "conn = psycopg2.connect('host=127.0.0.1 dbname=reports user={} password={}'.format(DB_USER, DB_PASSWORD))\n",
    "cur = conn.cursor()\n",
    "\n",
    "# Define your SQL query\n",
    "sql_query = \"\"\"\n",
    "SELECT \"Month\", SUM(\"Price in Currency Conv\") AS \"total_expenditure\"\n",
    "FROM transaction_table\n",
    "GROUP BY \"Month\"\n",
    "ORDER BY \n",
    "\tCASE \"Month\"\n",
    "\t\tWHEN 'Jan' THEN 1\n",
    "\t\tWHEN 'Feb' THEN 2\n",
    "\t\tWHEN 'Mar' THEN 3\n",
    "\t\tWHEN 'Apr' THEN 4\n",
    "\t\tWHEN 'May' THEN 5\n",
    "\t\tWHEN 'Jun' THEN 6\n",
    "\t\tWHEN 'Jul' THEN 7\n",
    "\t\tWHEN 'Aug' THEN 8\n",
    "\t\tWHEN 'Sep' THEN 9\n",
    "\t\tWHEN 'Oct' THEN 10\n",
    "    \tWHEN 'Nov' THEN 11\n",
    "   \t\tWHEN 'Dec' THEN 12\n",
    "\tEND ASC;\n",
    "\"\"\"\n",
    "\n",
    "# Execute the SQL query\n",
    "cur.execute(sql_query)\n",
    "\n",
    "# Fetch all rows from the result set\n",
    "rows = cur.fetchall()\n",
    "\n",
    "# Print the results\n",
    "for row in rows:\n",
    "    print(row) \n",
    "\n",
    "# Close the cursor and connection\n",
    "cur.close()\n",
    "conn.close()"
   ]
  },
  {
   "cell_type": "markdown",
   "id": "0200a323",
   "metadata": {},
   "source": [
    "#### 4. Which suppliers are considered regular suppliers?"
   ]
  },
  {
   "cell_type": "code",
   "execution_count": 39,
   "id": "5f5a3684",
   "metadata": {
    "scrolled": true
   },
   "outputs": [
    {
     "name": "stdout",
     "output_type": "stream",
     "text": [
      "('101613     FASHION HOUSE', 464)\n",
      "('101022     LA ENGINEERING SDN BHD', 331)\n",
      "('101455     ROTO PAPER SDN BHD', 317)\n",
      "('101942    GIFT & PREMIUM SDN BHD', 298)\n",
      "('100198     SOLUTIONS (M) SDN BHD', 297)\n",
      "('100684     FLOTECH SDN BHD', 274)\n",
      "('100865     PROTECTIVE SDN BHD', 264)\n",
      "('101707     MEDIA MARKETING', 245)\n",
      "('101182     MUL GALY MARKETING', 228)\n",
      "('100828     HY SDN BHD', 224)\n",
      "('101388     PRO TECHNOLOGY SDN BHD', 202)\n",
      "('103157     NETWORK', 124)\n",
      "('100339     CZO SDN BHD', 109)\n",
      "('100047     ENGINEERING HARDWARE', 94)\n",
      "('100303     PLASTICS SDN BHD', 82)\n",
      "('103094     KIYO SDN BHD', 75)\n",
      "('100569     MARKETING SDN BHD', 62)\n",
      "('100196     AVEREX SDN BHD', 45)\n",
      "('103230     NASIONAL BERHAD', 40)\n",
      "('100154     ARCA SDN BHD', 26)\n"
     ]
    }
   ],
   "source": [
    "# Create a cursor object\n",
    "conn = psycopg2.connect('host=127.0.0.1 dbname=reports user={} password={}'.format(DB_USER, DB_PASSWORD))\n",
    "cur = conn.cursor()\n",
    "\n",
    "# Define your SQL query\n",
    "sql_query = \"\"\"\n",
    "SELECT \"Supplier/Supplying Plant\", COUNT(*) AS \"Frequency\"\n",
    "FROM transaction_table\n",
    "GROUP BY \"Supplier/Supplying Plant\"\n",
    "ORDER BY \"Frequency\" DESC\n",
    "LIMIT 20;\n",
    "\n",
    "\"\"\"\n",
    "\n",
    "# Execute the SQL query\n",
    "cur.execute(sql_query)\n",
    "\n",
    "# Fetch all rows from the result set\n",
    "rows = cur.fetchall()\n",
    "\n",
    "# Print the results\n",
    "for row in rows:\n",
    "    print(row) \n",
    "\n",
    "# Close the cursor and connection\n",
    "cur.close()\n",
    "conn.close()"
   ]
  },
  {
   "cell_type": "markdown",
   "id": "6616f7b3",
   "metadata": {},
   "source": [
    "#### 5. Create new tables that joins the dimension table  "
   ]
  },
  {
   "cell_type": "code",
   "execution_count": 46,
   "id": "dda32d9d",
   "metadata": {},
   "outputs": [
    {
     "ename": "DuplicateTable",
     "evalue": "relation \"tran_map_table\" already exists\n",
     "output_type": "error",
     "traceback": [
      "\u001b[1;31m---------------------------------------------------------------------------\u001b[0m",
      "\u001b[1;31mDuplicateTable\u001b[0m                            Traceback (most recent call last)",
      "Cell \u001b[1;32mIn[46], line 20\u001b[0m\n\u001b[0;32m      6\u001b[0m sql_query \u001b[38;5;241m=\u001b[39m \u001b[38;5;124m\"\"\"\u001b[39m\n\u001b[0;32m      7\u001b[0m \u001b[38;5;124mCREATE TABLE tran_map_table AS\u001b[39m\n\u001b[0;32m      8\u001b[0m \u001b[38;5;124mSELECT \u001b[39m\n\u001b[1;32m   (...)\u001b[0m\n\u001b[0;32m     16\u001b[0m \u001b[38;5;124mINNER JOIN mapping_table ON transaction_table.\u001b[39m\u001b[38;5;124m\"\u001b[39m\u001b[38;5;124mMaterial Group\u001b[39m\u001b[38;5;124m\"\u001b[39m\u001b[38;5;124m = mapping_table.\u001b[39m\u001b[38;5;124m\"\u001b[39m\u001b[38;5;124mMaterial Group\u001b[39m\u001b[38;5;124m\"\u001b[39m\u001b[38;5;124m;\u001b[39m\n\u001b[0;32m     17\u001b[0m \u001b[38;5;124m\"\"\"\u001b[39m\n\u001b[0;32m     19\u001b[0m \u001b[38;5;66;03m# Execute the SQL query\u001b[39;00m\n\u001b[1;32m---> 20\u001b[0m cur\u001b[38;5;241m.\u001b[39mexecute(sql_query)\n\u001b[0;32m     22\u001b[0m \u001b[38;5;66;03m# Fetch all rows from the result set\u001b[39;00m\n\u001b[0;32m     23\u001b[0m rows \u001b[38;5;241m=\u001b[39m cur\u001b[38;5;241m.\u001b[39mfetchall()\n",
      "\u001b[1;31mDuplicateTable\u001b[0m: relation \"tran_map_table\" already exists\n"
     ]
    }
   ],
   "source": [
    "# Create a cursor object\n",
    "conn = psycopg2.connect('host=127.0.0.1 dbname=reports user={} password={}'.format(DB_USER, DB_PASSWORD))\n",
    "cur = conn.cursor()\n",
    "\n",
    "# Define your SQL query\n",
    "sql_query = \"\"\"\n",
    "CREATE TABLE tran_map_table AS\n",
    "SELECT \n",
    "\ttransaction_table.*,\n",
    "\tmapping_table.\"Material Group Desc\",\n",
    "    mapping_table.\"Spend Group\",\n",
    "    mapping_table.\"Excluded in Analysis\",\n",
    "    mapping_table.\"Spend Category\",\n",
    "    mapping_table.\"Spend Subcategory\"\n",
    "FROM transaction_table\n",
    "INNER JOIN mapping_table ON transaction_table.\"Material Group\" = mapping_table.\"Material Group\";\n",
    "\"\"\"\n",
    "\n",
    "# Execute the SQL query\n",
    "cur.execute(sql_query)\n",
    "\n",
    "# Fetch all rows from the result set\n",
    "rows = cur.fetchall()\n",
    "\n",
    "# Print the results\n",
    "for row in rows:\n",
    "    print(row) \n",
    "\n",
    "# Close the cursor and connection\n",
    "cur.close()\n",
    "conn.close()"
   ]
  },
  {
   "cell_type": "markdown",
   "id": "3a69b42b",
   "metadata": {},
   "source": [
    "#### 6. What is the expenditure cost for each category?"
   ]
  },
  {
   "cell_type": "code",
   "execution_count": 48,
   "id": "ed09cec2",
   "metadata": {},
   "outputs": [
    {
     "name": "stdout",
     "output_type": "stream",
     "text": [
      "('Machinery', 25588746, 896)\n",
      "('Packaging Materials', 10397185, 275)\n",
      "('Chemicals', 4646147, 95)\n",
      "('Service Contract', 3454423, 116)\n",
      "('IT Related ', 2591045, 48)\n",
      "('Sundries', 2314319, 241)\n",
      "('Advertising', 1276989, 85)\n",
      "('Maintenance Services', 1130408, 193)\n",
      "('Instrument', 788954, 131)\n",
      "('Spare Parts', 778216, 495)\n",
      "('Packaging Pallets', 703358, 8)\n",
      "('Staff Amenities', 542606, 549)\n",
      "('Lab Expenses', 305855, 69)\n",
      "('Hardware', 300846, 282)\n",
      "('Lubricant', 120983, 20)\n",
      "('Maintenance Vehicles', 102805, 25)\n",
      "('Stationery', 61452, 332)\n",
      "('Warehouse', 13300, 2)\n",
      "('Upkeep Office', 6800, 4)\n",
      "('Gift', 3740, 1)\n"
     ]
    }
   ],
   "source": [
    "# Create a cursor object\n",
    "conn = psycopg2.connect('host=127.0.0.1 dbname=reports user={} password={}'.format(DB_USER, DB_PASSWORD))\n",
    "cur = conn.cursor()\n",
    "\n",
    "# Define your SQL query\n",
    "sql_query = \"\"\"\n",
    "SELECT \"Spend Category\",\n",
    "\tSUM(\"Price in Currency Conv\") AS \"Total Spend (RM)\",\n",
    "\tCount(\"Spend Category\") AS \"Frequency\"\n",
    "FROM tran_map_table\n",
    "GROUP BY \"Spend Category\"\n",
    "ORDER BY \"Total Spend (RM)\" DESC\n",
    "LIMIT 20;\n",
    "\"\"\"\n",
    "\n",
    "# Execute the SQL query\n",
    "cur.execute(sql_query)\n",
    "\n",
    "# Fetch all rows from the result set\n",
    "rows = cur.fetchall()\n",
    "\n",
    "# Print the results\n",
    "for row in rows:\n",
    "    print(row) \n",
    "\n",
    "# Close the cursor and connection\n",
    "cur.close()\n",
    "conn.close()"
   ]
  },
  {
   "cell_type": "markdown",
   "id": "5fc06ea9",
   "metadata": {},
   "source": [
    "#### 7. What suppliers are engaged for machinery category and the expenses breakdown for each supplier?"
   ]
  },
  {
   "cell_type": "code",
   "execution_count": 49,
   "id": "dd3ecbb1",
   "metadata": {},
   "outputs": [
    {
     "name": "stdout",
     "output_type": "stream",
     "text": [
      "('101022     LA ENGINEERING SDN BHD', 14484729)\n",
      "('100865     PROTECTIVE SDN BHD', 5898875)\n",
      "('101942    GIFT & PREMIUM SDN BHD', 1650957)\n",
      "('101455     ROTO PAPER SDN BHD', 1013954)\n",
      "('101707     MEDIA MARKETING', 773048)\n",
      "('101388     PRO TECHNOLOGY SDN BHD', 240260)\n",
      "('101613     FASHION HOUSE', 239833)\n",
      "('100684     FLOTECH SDN BHD', 219485)\n",
      "('100828     HY SDN BHD', 193600)\n",
      "('101182     MUL GALY MARKETING', 193110)\n",
      "('100047     ENGINEERING HARDWARE', 135518)\n",
      "('103230     NASIONAL BERHAD', 107979)\n",
      "('100339     CZO SDN BHD', 74560)\n",
      "('103157     NETWORK', 69452)\n",
      "('103094     KIYO SDN BHD', 51530)\n",
      "('100196     AVEREX SDN BHD', 43982)\n",
      "('100095     FLUID SYSTEMS SDN BHD', 43884)\n",
      "('100006     BULK TRADING SDN BHD', 34761)\n",
      "('100569     MARKETING SDN BHD', 29662)\n",
      "('100154     ARCA SDN BHD', 27380)\n",
      "('100026     TECHNOLOGIES SDN BHD', 27015)\n",
      "('100303     PLASTICS SDN BHD', 17987)\n",
      "('100198     SOLUTIONS (M) SDN BHD', 17185)\n"
     ]
    }
   ],
   "source": [
    "# Create a cursor object\n",
    "conn = psycopg2.connect('host=127.0.0.1 dbname=reports user={} password={}'.format(DB_USER, DB_PASSWORD))\n",
    "cur = conn.cursor()\n",
    "\n",
    "# Define your SQL query\n",
    "sql_query = \"\"\"\n",
    "SELECT \"Supplier/Supplying Plant\", SUM(\"Price in Currency Conv\") AS \"Total Expenditure Machinery\"\n",
    "FROM tran_map_table\n",
    "WHERE \"Spend Category\" = 'Machinery'\n",
    "GROUP BY \"Supplier/Supplying Plant\"\n",
    "ORDER BY \"Total Expenditure Machinery\" DESC;\n",
    "\"\"\"\n",
    "\n",
    "# Execute the SQL query\n",
    "cur.execute(sql_query)\n",
    "\n",
    "# Fetch all rows from the result set\n",
    "rows = cur.fetchall()\n",
    "\n",
    "# Print the results\n",
    "for row in rows:\n",
    "    print(row) \n",
    "\n",
    "# Close the cursor and connection\n",
    "cur.close()\n",
    "conn.close()"
   ]
  },
  {
   "cell_type": "code",
   "execution_count": null,
   "id": "9c889ec7",
   "metadata": {},
   "outputs": [],
   "source": []
  }
 ],
 "metadata": {
  "kernelspec": {
   "display_name": "Python 3 (ipykernel)",
   "language": "python",
   "name": "python3"
  },
  "language_info": {
   "codemirror_mode": {
    "name": "ipython",
    "version": 3
   },
   "file_extension": ".py",
   "mimetype": "text/x-python",
   "name": "python",
   "nbconvert_exporter": "python",
   "pygments_lexer": "ipython3",
   "version": "3.11.5"
  }
 },
 "nbformat": 4,
 "nbformat_minor": 5
}
